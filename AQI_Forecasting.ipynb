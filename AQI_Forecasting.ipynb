{
  "nbformat": 4,
  "nbformat_minor": 0,
  "metadata": {
    "colab": {
      "provenance": [],
      "authorship_tag": "ABX9TyO09H7E4LCJaCvgWc6iXH/U",
      "include_colab_link": true
    },
    "kernelspec": {
      "name": "python3",
      "display_name": "Python 3"
    },
    "language_info": {
      "name": "python"
    }
  },
  "cells": [
    {
      "cell_type": "markdown",
      "metadata": {
        "id": "view-in-github",
        "colab_type": "text"
      },
      "source": [
        "<a href=\"https://colab.research.google.com/github/Nripendrobiswas/WebsiteDesignCode/blob/main/AQI_Forecasting.ipynb\" target=\"_parent\"><img src=\"https://colab.research.google.com/assets/colab-badge.svg\" alt=\"Open In Colab\"/></a>"
      ]
    },
    {
      "cell_type": "markdown",
      "source": [
        "Import Library files and declare as new name\n"
      ],
      "metadata": {
        "id": "kxQYHzWVPVJ8"
      }
    },
    {
      "cell_type": "code",
      "execution_count": null,
      "metadata": {
        "id": "WHofE5ZDLHLa"
      },
      "outputs": [],
      "source": [
        "import numpy as np\n",
        "import pandas as pd"
      ]
    },
    {
      "cell_type": "markdown",
      "source": [
        "Data collection and CSV file loading\n",
        "\n",
        "data collected from : https://archive.ics.uci.edu/dataset/360/air+quality"
      ],
      "metadata": {
        "id": "RjffTWRHPxng"
      }
    },
    {
      "cell_type": "code",
      "source": [
        "air_quality_data=pd.read_csv('/content/AirQualityUCI.csv')"
      ],
      "metadata": {
        "id": "dbSL6ts3P9mo"
      },
      "execution_count": null,
      "outputs": []
    },
    {
      "cell_type": "markdown",
      "source": [
        "Print the rows"
      ],
      "metadata": {
        "id": "PefTIbUUQqxs"
      }
    },
    {
      "cell_type": "code",
      "source": [
        "air_quality_data.head()"
      ],
      "metadata": {
        "id": "bE-ftCkgQxlu"
      },
      "execution_count": null,
      "outputs": []
    },
    {
      "cell_type": "markdown",
      "source": [
        "Separate column as ; is column separator"
      ],
      "metadata": {
        "id": "yTOGiG1-SaHF"
      }
    },
    {
      "cell_type": "code",
      "source": [
        "air_quality_data=pd.read_csv('/content/AirQualityUCI.csv',sep=';')\n",
        "air_quality_data.head()"
      ],
      "metadata": {
        "id": "lEsESKaiSkp0"
      },
      "execution_count": null,
      "outputs": []
    },
    {
      "cell_type": "markdown",
      "source": [
        "Here decimal point used as , . So represent , as decimal point"
      ],
      "metadata": {
        "id": "b76fcumzSvre"
      }
    },
    {
      "cell_type": "code",
      "source": [
        "air_quality_data=pd.read_csv('/content/AirQualityUCI.csv',sep=';',decimal=',')\n",
        "air_quality_data.head()"
      ],
      "metadata": {
        "id": "xgvlsnmRTDoe"
      },
      "execution_count": null,
      "outputs": []
    },
    {
      "cell_type": "markdown",
      "source": [
        "Delete unnamed column. Specifically last two column"
      ],
      "metadata": {
        "id": "6WLb2b5ATM_H"
      }
    },
    {
      "cell_type": "code",
      "source": [
        "air_quality_data = air_quality_data.iloc[:,:-2]\n",
        "air_quality_data.head()\n"
      ],
      "metadata": {
        "id": "m9E8ah83TQ8t"
      },
      "execution_count": null,
      "outputs": []
    },
    {
      "cell_type": "markdown",
      "source": [
        "To know how many row and column exist: (row,column)"
      ],
      "metadata": {
        "id": "msqM15gDUiTz"
      }
    },
    {
      "cell_type": "code",
      "source": [
        "air_quality_data.shape"
      ],
      "metadata": {
        "colab": {
          "base_uri": "https://localhost:8080/"
        },
        "id": "dhFUbTTvUs5R",
        "outputId": "46d1595c-7193-4acd-bfd6-53530e16abc4"
      },
      "execution_count": null,
      "outputs": [
        {
          "output_type": "execute_result",
          "data": {
            "text/plain": [
              "(9471, 15)"
            ]
          },
          "metadata": {},
          "execution_count": 31
        }
      ]
    },
    {
      "cell_type": "markdown",
      "source": [
        "To see exact row data"
      ],
      "metadata": {
        "id": "nDW1fp3eUzs9"
      }
    },
    {
      "cell_type": "code",
      "source": [
        "air_quality_data.loc[[9355]]"
      ],
      "metadata": {
        "id": "UBrW1ypsU4b8"
      },
      "execution_count": null,
      "outputs": []
    },
    {
      "cell_type": "markdown",
      "source": [
        "Too see first 5 rows"
      ],
      "metadata": {
        "id": "NThxc2qmanSe"
      }
    },
    {
      "cell_type": "code",
      "source": [
        "air_quality_data = air_quality_data.head(9471)\n",
        "air_quality_data.head()"
      ],
      "metadata": {
        "id": "XiKj7bwXaqH7"
      },
      "execution_count": null,
      "outputs": []
    },
    {
      "cell_type": "markdown",
      "source": [
        "To see last 5 rows"
      ],
      "metadata": {
        "id": "6bTm7Wx5aZeB"
      }
    },
    {
      "cell_type": "code",
      "source": [
        "air_quality_data = air_quality_data.head(9471)\n",
        "air_quality_data.tail()"
      ],
      "metadata": {
        "id": "QL2IFKbcV15r"
      },
      "execution_count": null,
      "outputs": []
    },
    {
      "cell_type": "code",
      "source": [
        "#Getting info about data set\n",
        "air_quality_data.info()"
      ],
      "metadata": {
        "id": "HS_yRKbxbhxC"
      },
      "execution_count": null,
      "outputs": []
    },
    {
      "cell_type": "markdown",
      "source": [
        "COnvert all -200 to NaN"
      ],
      "metadata": {
        "id": "ajwJw8DBc66H"
      }
    },
    {
      "cell_type": "code",
      "source": [
        "air_quality_data = air_quality_data.replace(to_replace = -200,value=np.NaN)"
      ],
      "metadata": {
        "id": "Vlx41SYJc9er"
      },
      "execution_count": null,
      "outputs": []
    },
    {
      "cell_type": "code",
      "source": [
        "air_quality_data.mean()"
      ],
      "metadata": {
        "id": "o0KF4ETWchV-"
      },
      "execution_count": null,
      "outputs": []
    },
    {
      "cell_type": "markdown",
      "source": [
        "Replace missing value mean value"
      ],
      "metadata": {
        "id": "jCaW4PZFdzQX"
      }
    },
    {
      "cell_type": "code",
      "source": [
        "air_quality_data = air_quality_data.fillna(air_quality_data.mean())"
      ],
      "metadata": {
        "id": "WevFh9RRd6ja"
      },
      "execution_count": null,
      "outputs": []
    },
    {
      "cell_type": "markdown",
      "source": [
        "To see last missing value replaced or not"
      ],
      "metadata": {
        "id": "Nq_zhuZYeHu1"
      }
    },
    {
      "cell_type": "code",
      "source": [
        "air_quality_data.tail()\n",
        "\n",
        "#here all values are replaced with mean value which were NaN values"
      ],
      "metadata": {
        "id": "c9TpzgPkeLtX"
      },
      "execution_count": null,
      "outputs": []
    },
    {
      "cell_type": "markdown",
      "source": [
        "To see how many data are still null value"
      ],
      "metadata": {
        "id": "CxHnOhU7elbh"
      }
    },
    {
      "cell_type": "code",
      "source": [
        "air_quality_data.isnull().sum()"
      ],
      "metadata": {
        "id": "I1C0jFUvetbu"
      },
      "execution_count": null,
      "outputs": []
    },
    {
      "cell_type": "markdown",
      "source": [
        "Now we can perform on this data set : Forecasting and Regression"
      ],
      "metadata": {
        "id": "OqPPmeiue89C"
      }
    },
    {
      "cell_type": "markdown",
      "source": [
        "**Forecasting with FB Prophet algoritm **"
      ],
      "metadata": {
        "id": "IDn3_Ay-fxQf"
      }
    },
    {
      "cell_type": "markdown",
      "source": [
        "FB Prophet Documentation: https://facebook.github.io/prophet/docs/quick_start.html"
      ],
      "metadata": {
        "id": "Vnn4uNmbgEf1"
      }
    },
    {
      "cell_type": "code",
      "source": [
        "#Converting the date structure DD/MM/YYYY to YYYY/MM/DD\n",
        "date_info=pd.to_datetime(air_quality_data['Date'])\n",
        "print(date_info)"
      ],
      "metadata": {
        "id": "8YnSE9hJjIcm"
      },
      "execution_count": null,
      "outputs": []
    },
    {
      "cell_type": "code",
      "source": [
        "#Converting . into : in Time column\n",
        "time_info=air_quality_data['Time']\n",
        "time_info=time_info.apply(lambda x:x.replace('.',':'))\n",
        "print(time_info)"
      ],
      "metadata": {
        "id": "aJiCIEghkjub"
      },
      "execution_count": null,
      "outputs": []
    },
    {
      "cell_type": "markdown",
      "source": [
        "Combining Date and Time to a pandas frame"
      ],
      "metadata": {
        "id": "etF7tIP0ll-X"
      }
    },
    {
      "cell_type": "code",
      "source": [
        "date_time=pd.concat([date_info,time_info], axis=1)\n",
        "#print first 5 rows data\n",
        "date_time.head()"
      ],
      "metadata": {
        "id": "k3AL7MakltmB"
      },
      "execution_count": null,
      "outputs": []
    },
    {
      "cell_type": "code",
      "source": [
        "#Combined date time as ds\n",
        "date_time['ds']= date_time['Date'].astype(str)+''+date_time['Time'].astype(str)\n",
        "date_time.head()"
      ],
      "metadata": {
        "colab": {
          "base_uri": "https://localhost:8080/",
          "height": 206
        },
        "id": "mvNt4RWunMQC",
        "outputId": "4c47849a-137a-4f72-abbe-d9b7437fb571"
      },
      "execution_count": null,
      "outputs": [
        {
          "output_type": "execute_result",
          "data": {
            "text/plain": [
              "        Date      Time                  ds\n",
              "0 2004-10-03  18:00:00  2004-10-0318:00:00\n",
              "1 2004-10-03  19:00:00  2004-10-0319:00:00\n",
              "2 2004-10-03  20:00:00  2004-10-0320:00:00\n",
              "3 2004-10-03  21:00:00  2004-10-0321:00:00\n",
              "4 2004-10-03  22:00:00  2004-10-0322:00:00"
            ],
            "text/html": [
              "\n",
              "  <div id=\"df-b7d221d1-63b9-422b-a88c-b128f377266a\" class=\"colab-df-container\">\n",
              "    <div>\n",
              "<style scoped>\n",
              "    .dataframe tbody tr th:only-of-type {\n",
              "        vertical-align: middle;\n",
              "    }\n",
              "\n",
              "    .dataframe tbody tr th {\n",
              "        vertical-align: top;\n",
              "    }\n",
              "\n",
              "    .dataframe thead th {\n",
              "        text-align: right;\n",
              "    }\n",
              "</style>\n",
              "<table border=\"1\" class=\"dataframe\">\n",
              "  <thead>\n",
              "    <tr style=\"text-align: right;\">\n",
              "      <th></th>\n",
              "      <th>Date</th>\n",
              "      <th>Time</th>\n",
              "      <th>ds</th>\n",
              "    </tr>\n",
              "  </thead>\n",
              "  <tbody>\n",
              "    <tr>\n",
              "      <th>0</th>\n",
              "      <td>2004-10-03</td>\n",
              "      <td>18:00:00</td>\n",
              "      <td>2004-10-0318:00:00</td>\n",
              "    </tr>\n",
              "    <tr>\n",
              "      <th>1</th>\n",
              "      <td>2004-10-03</td>\n",
              "      <td>19:00:00</td>\n",
              "      <td>2004-10-0319:00:00</td>\n",
              "    </tr>\n",
              "    <tr>\n",
              "      <th>2</th>\n",
              "      <td>2004-10-03</td>\n",
              "      <td>20:00:00</td>\n",
              "      <td>2004-10-0320:00:00</td>\n",
              "    </tr>\n",
              "    <tr>\n",
              "      <th>3</th>\n",
              "      <td>2004-10-03</td>\n",
              "      <td>21:00:00</td>\n",
              "      <td>2004-10-0321:00:00</td>\n",
              "    </tr>\n",
              "    <tr>\n",
              "      <th>4</th>\n",
              "      <td>2004-10-03</td>\n",
              "      <td>22:00:00</td>\n",
              "      <td>2004-10-0322:00:00</td>\n",
              "    </tr>\n",
              "  </tbody>\n",
              "</table>\n",
              "</div>\n",
              "    <div class=\"colab-df-buttons\">\n",
              "\n",
              "  <div class=\"colab-df-container\">\n",
              "    <button class=\"colab-df-convert\" onclick=\"convertToInteractive('df-b7d221d1-63b9-422b-a88c-b128f377266a')\"\n",
              "            title=\"Convert this dataframe to an interactive table.\"\n",
              "            style=\"display:none;\">\n",
              "\n",
              "  <svg xmlns=\"http://www.w3.org/2000/svg\" height=\"24px\" viewBox=\"0 -960 960 960\">\n",
              "    <path d=\"M120-120v-720h720v720H120Zm60-500h600v-160H180v160Zm220 220h160v-160H400v160Zm0 220h160v-160H400v160ZM180-400h160v-160H180v160Zm440 0h160v-160H620v160ZM180-180h160v-160H180v160Zm440 0h160v-160H620v160Z\"/>\n",
              "  </svg>\n",
              "    </button>\n",
              "\n",
              "  <style>\n",
              "    .colab-df-container {\n",
              "      display:flex;\n",
              "      gap: 12px;\n",
              "    }\n",
              "\n",
              "    .colab-df-convert {\n",
              "      background-color: #E8F0FE;\n",
              "      border: none;\n",
              "      border-radius: 50%;\n",
              "      cursor: pointer;\n",
              "      display: none;\n",
              "      fill: #1967D2;\n",
              "      height: 32px;\n",
              "      padding: 0 0 0 0;\n",
              "      width: 32px;\n",
              "    }\n",
              "\n",
              "    .colab-df-convert:hover {\n",
              "      background-color: #E2EBFA;\n",
              "      box-shadow: 0px 1px 2px rgba(60, 64, 67, 0.3), 0px 1px 3px 1px rgba(60, 64, 67, 0.15);\n",
              "      fill: #174EA6;\n",
              "    }\n",
              "\n",
              "    .colab-df-buttons div {\n",
              "      margin-bottom: 4px;\n",
              "    }\n",
              "\n",
              "    [theme=dark] .colab-df-convert {\n",
              "      background-color: #3B4455;\n",
              "      fill: #D2E3FC;\n",
              "    }\n",
              "\n",
              "    [theme=dark] .colab-df-convert:hover {\n",
              "      background-color: #434B5C;\n",
              "      box-shadow: 0px 1px 3px 1px rgba(0, 0, 0, 0.15);\n",
              "      filter: drop-shadow(0px 1px 2px rgba(0, 0, 0, 0.3));\n",
              "      fill: #FFFFFF;\n",
              "    }\n",
              "  </style>\n",
              "\n",
              "    <script>\n",
              "      const buttonEl =\n",
              "        document.querySelector('#df-b7d221d1-63b9-422b-a88c-b128f377266a button.colab-df-convert');\n",
              "      buttonEl.style.display =\n",
              "        google.colab.kernel.accessAllowed ? 'block' : 'none';\n",
              "\n",
              "      async function convertToInteractive(key) {\n",
              "        const element = document.querySelector('#df-b7d221d1-63b9-422b-a88c-b128f377266a');\n",
              "        const dataTable =\n",
              "          await google.colab.kernel.invokeFunction('convertToInteractive',\n",
              "                                                    [key], {});\n",
              "        if (!dataTable) return;\n",
              "\n",
              "        const docLinkHtml = 'Like what you see? Visit the ' +\n",
              "          '<a target=\"_blank\" href=https://colab.research.google.com/notebooks/data_table.ipynb>data table notebook</a>'\n",
              "          + ' to learn more about interactive tables.';\n",
              "        element.innerHTML = '';\n",
              "        dataTable['output_type'] = 'display_data';\n",
              "        await google.colab.output.renderOutput(dataTable, element);\n",
              "        const docLink = document.createElement('div');\n",
              "        docLink.innerHTML = docLinkHtml;\n",
              "        element.appendChild(docLink);\n",
              "      }\n",
              "    </script>\n",
              "  </div>\n",
              "\n",
              "\n",
              "<div id=\"df-e48d3d12-6570-4823-a840-d95ec1547ce6\">\n",
              "  <button class=\"colab-df-quickchart\" onclick=\"quickchart('df-e48d3d12-6570-4823-a840-d95ec1547ce6')\"\n",
              "            title=\"Suggest charts\"\n",
              "            style=\"display:none;\">\n",
              "\n",
              "<svg xmlns=\"http://www.w3.org/2000/svg\" height=\"24px\"viewBox=\"0 0 24 24\"\n",
              "     width=\"24px\">\n",
              "    <g>\n",
              "        <path d=\"M19 3H5c-1.1 0-2 .9-2 2v14c0 1.1.9 2 2 2h14c1.1 0 2-.9 2-2V5c0-1.1-.9-2-2-2zM9 17H7v-7h2v7zm4 0h-2V7h2v10zm4 0h-2v-4h2v4z\"/>\n",
              "    </g>\n",
              "</svg>\n",
              "  </button>\n",
              "\n",
              "<style>\n",
              "  .colab-df-quickchart {\n",
              "      --bg-color: #E8F0FE;\n",
              "      --fill-color: #1967D2;\n",
              "      --hover-bg-color: #E2EBFA;\n",
              "      --hover-fill-color: #174EA6;\n",
              "      --disabled-fill-color: #AAA;\n",
              "      --disabled-bg-color: #DDD;\n",
              "  }\n",
              "\n",
              "  [theme=dark] .colab-df-quickchart {\n",
              "      --bg-color: #3B4455;\n",
              "      --fill-color: #D2E3FC;\n",
              "      --hover-bg-color: #434B5C;\n",
              "      --hover-fill-color: #FFFFFF;\n",
              "      --disabled-bg-color: #3B4455;\n",
              "      --disabled-fill-color: #666;\n",
              "  }\n",
              "\n",
              "  .colab-df-quickchart {\n",
              "    background-color: var(--bg-color);\n",
              "    border: none;\n",
              "    border-radius: 50%;\n",
              "    cursor: pointer;\n",
              "    display: none;\n",
              "    fill: var(--fill-color);\n",
              "    height: 32px;\n",
              "    padding: 0;\n",
              "    width: 32px;\n",
              "  }\n",
              "\n",
              "  .colab-df-quickchart:hover {\n",
              "    background-color: var(--hover-bg-color);\n",
              "    box-shadow: 0 1px 2px rgba(60, 64, 67, 0.3), 0 1px 3px 1px rgba(60, 64, 67, 0.15);\n",
              "    fill: var(--button-hover-fill-color);\n",
              "  }\n",
              "\n",
              "  .colab-df-quickchart-complete:disabled,\n",
              "  .colab-df-quickchart-complete:disabled:hover {\n",
              "    background-color: var(--disabled-bg-color);\n",
              "    fill: var(--disabled-fill-color);\n",
              "    box-shadow: none;\n",
              "  }\n",
              "\n",
              "  .colab-df-spinner {\n",
              "    border: 2px solid var(--fill-color);\n",
              "    border-color: transparent;\n",
              "    border-bottom-color: var(--fill-color);\n",
              "    animation:\n",
              "      spin 1s steps(1) infinite;\n",
              "  }\n",
              "\n",
              "  @keyframes spin {\n",
              "    0% {\n",
              "      border-color: transparent;\n",
              "      border-bottom-color: var(--fill-color);\n",
              "      border-left-color: var(--fill-color);\n",
              "    }\n",
              "    20% {\n",
              "      border-color: transparent;\n",
              "      border-left-color: var(--fill-color);\n",
              "      border-top-color: var(--fill-color);\n",
              "    }\n",
              "    30% {\n",
              "      border-color: transparent;\n",
              "      border-left-color: var(--fill-color);\n",
              "      border-top-color: var(--fill-color);\n",
              "      border-right-color: var(--fill-color);\n",
              "    }\n",
              "    40% {\n",
              "      border-color: transparent;\n",
              "      border-right-color: var(--fill-color);\n",
              "      border-top-color: var(--fill-color);\n",
              "    }\n",
              "    60% {\n",
              "      border-color: transparent;\n",
              "      border-right-color: var(--fill-color);\n",
              "    }\n",
              "    80% {\n",
              "      border-color: transparent;\n",
              "      border-right-color: var(--fill-color);\n",
              "      border-bottom-color: var(--fill-color);\n",
              "    }\n",
              "    90% {\n",
              "      border-color: transparent;\n",
              "      border-bottom-color: var(--fill-color);\n",
              "    }\n",
              "  }\n",
              "</style>\n",
              "\n",
              "  <script>\n",
              "    async function quickchart(key) {\n",
              "      const quickchartButtonEl =\n",
              "        document.querySelector('#' + key + ' button');\n",
              "      quickchartButtonEl.disabled = true;  // To prevent multiple clicks.\n",
              "      quickchartButtonEl.classList.add('colab-df-spinner');\n",
              "      try {\n",
              "        const charts = await google.colab.kernel.invokeFunction(\n",
              "            'suggestCharts', [key], {});\n",
              "      } catch (error) {\n",
              "        console.error('Error during call to suggestCharts:', error);\n",
              "      }\n",
              "      quickchartButtonEl.classList.remove('colab-df-spinner');\n",
              "      quickchartButtonEl.classList.add('colab-df-quickchart-complete');\n",
              "    }\n",
              "    (() => {\n",
              "      let quickchartButtonEl =\n",
              "        document.querySelector('#df-e48d3d12-6570-4823-a840-d95ec1547ce6 button');\n",
              "      quickchartButtonEl.style.display =\n",
              "        google.colab.kernel.accessAllowed ? 'block' : 'none';\n",
              "    })();\n",
              "  </script>\n",
              "</div>\n",
              "\n",
              "    </div>\n",
              "  </div>\n"
            ]
          },
          "metadata": {},
          "execution_count": 82
        }
      ]
    }
  ]
}